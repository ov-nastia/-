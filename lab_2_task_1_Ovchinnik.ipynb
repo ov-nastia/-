{
 "cells": [
  {
   "cell_type": "markdown",
   "id": "2d57586e-4d6b-457b-bb2c-6915ff6f630f",
   "metadata": {},
   "source": [
    "Лабораторна робота 2.\n"
   ]
  },
  {
   "cell_type": "code",
   "execution_count": 46,
   "id": "dc3b791e-7604-4f30-8388-f1a5262f09c0",
   "metadata": {},
   "outputs": [],
   "source": [
    "import pandas as pd \n",
    "import numpy as np"
   ]
  },
  {
   "cell_type": "code",
   "execution_count": 6,
   "id": "b2c04966-8ad3-4030-8a5e-4036bed9279a",
   "metadata": {},
   "outputs": [],
   "source": [
    "#Зчитати датасет ВВП (млн. дол. США) за країнами з Вікіпедії за посиланням\n",
    "\n",
    "url = 'https://en.wikipedia.org/wiki/List_of_countries_by_GDP_(nominal)#Table'\n",
    "tables = pd.read_html(url)\n",
    "\n"
   ]
  },
  {
   "cell_type": "code",
   "execution_count": 7,
   "id": "203193d3-bdf8-4207-85ee-5d31647df974",
   "metadata": {},
   "outputs": [
    {
     "data": {
      "text/html": [
       "<div>\n",
       "<style scoped>\n",
       "    .dataframe tbody tr th:only-of-type {\n",
       "        vertical-align: middle;\n",
       "    }\n",
       "\n",
       "    .dataframe tbody tr th {\n",
       "        vertical-align: top;\n",
       "    }\n",
       "\n",
       "    .dataframe thead tr th {\n",
       "        text-align: left;\n",
       "    }\n",
       "</style>\n",
       "<table border=\"1\" class=\"dataframe\">\n",
       "  <thead>\n",
       "    <tr>\n",
       "      <th></th>\n",
       "      <th>Country/Territory</th>\n",
       "      <th colspan=\"2\" halign=\"left\">IMF[1][13]</th>\n",
       "      <th colspan=\"2\" halign=\"left\">World Bank[14]</th>\n",
       "      <th colspan=\"2\" halign=\"left\">United Nations[15]</th>\n",
       "    </tr>\n",
       "    <tr>\n",
       "      <th></th>\n",
       "      <th>Country/Territory</th>\n",
       "      <th>Forecast</th>\n",
       "      <th>Year</th>\n",
       "      <th>Estimate</th>\n",
       "      <th>Year</th>\n",
       "      <th>Estimate</th>\n",
       "      <th>Year</th>\n",
       "    </tr>\n",
       "  </thead>\n",
       "  <tbody>\n",
       "    <tr>\n",
       "      <th>0</th>\n",
       "      <td>World</td>\n",
       "      <td>109529216</td>\n",
       "      <td>2024</td>\n",
       "      <td>105435540</td>\n",
       "      <td>2023</td>\n",
       "      <td>100834796</td>\n",
       "      <td>2022</td>\n",
       "    </tr>\n",
       "    <tr>\n",
       "      <th>1</th>\n",
       "      <td>United States</td>\n",
       "      <td>28781083</td>\n",
       "      <td>2024</td>\n",
       "      <td>27360935</td>\n",
       "      <td>2023</td>\n",
       "      <td>25744100</td>\n",
       "      <td>2022</td>\n",
       "    </tr>\n",
       "    <tr>\n",
       "      <th>2</th>\n",
       "      <td>China</td>\n",
       "      <td>18532633</td>\n",
       "      <td>[n 1]2024</td>\n",
       "      <td>17794782</td>\n",
       "      <td>[n 3]2023</td>\n",
       "      <td>17963170</td>\n",
       "      <td>[n 1]2022</td>\n",
       "    </tr>\n",
       "    <tr>\n",
       "      <th>3</th>\n",
       "      <td>Germany</td>\n",
       "      <td>4591100</td>\n",
       "      <td>2024</td>\n",
       "      <td>4456081</td>\n",
       "      <td>2023</td>\n",
       "      <td>4076923</td>\n",
       "      <td>2022</td>\n",
       "    </tr>\n",
       "    <tr>\n",
       "      <th>4</th>\n",
       "      <td>Japan</td>\n",
       "      <td>4110452</td>\n",
       "      <td>2024</td>\n",
       "      <td>4212945</td>\n",
       "      <td>2023</td>\n",
       "      <td>4232173</td>\n",
       "      <td>2022</td>\n",
       "    </tr>\n",
       "  </tbody>\n",
       "</table>\n",
       "</div>"
      ],
      "text/plain": [
       "  Country/Territory IMF[1][13]            World Bank[14]             \\\n",
       "  Country/Territory   Forecast       Year       Estimate       Year   \n",
       "0             World  109529216       2024      105435540       2023   \n",
       "1     United States   28781083       2024       27360935       2023   \n",
       "2             China   18532633  [n 1]2024       17794782  [n 3]2023   \n",
       "3           Germany    4591100       2024        4456081       2023   \n",
       "4             Japan    4110452       2024        4212945       2023   \n",
       "\n",
       "  United Nations[15]             \n",
       "            Estimate       Year  \n",
       "0          100834796       2022  \n",
       "1           25744100       2022  \n",
       "2           17963170  [n 1]2022  \n",
       "3            4076923       2022  \n",
       "4            4232173       2022  "
      ]
     },
     "execution_count": 7,
     "metadata": {},
     "output_type": "execute_result"
    }
   ],
   "source": [
    "#1.Вивести перших 5 рядків.\n",
    "df = tables[2] #Таблиця, що містить дані ВВП\n",
    "# Виведення перших кількох рядків таблиці\n",
    "df.head()"
   ]
  },
  {
   "cell_type": "code",
   "execution_count": 9,
   "id": "98dbb616-c8cb-4709-b2fa-755e386d6c6a",
   "metadata": {},
   "outputs": [
    {
     "data": {
      "text/plain": [
       "(210, 7)"
      ]
     },
     "execution_count": 9,
     "metadata": {},
     "output_type": "execute_result"
    }
   ],
   "source": [
    "#2.Визначити розмір датасета.\n",
    "df.shape"
   ]
  },
  {
   "cell_type": "code",
   "execution_count": 10,
   "id": "e475963e-7568-4b61-bed5-00d3dc803b07",
   "metadata": {},
   "outputs": [
    {
     "data": {
      "text/plain": [
       "MultiIndex([( 'Country/Territory', 'Country/Territory'),\n",
       "            (        'IMF[1][13]',          'Forecast'),\n",
       "            (        'IMF[1][13]',              'Year'),\n",
       "            (    'World Bank[14]',          'Estimate'),\n",
       "            (    'World Bank[14]',              'Year'),\n",
       "            ('United Nations[15]',          'Estimate'),\n",
       "            ('United Nations[15]',              'Year')],\n",
       "           )"
      ]
     },
     "execution_count": 10,
     "metadata": {},
     "output_type": "execute_result"
    }
   ],
   "source": [
    "#3.Визначити оптимальну кількість стовпців.\n",
    "df.columns "
   ]
  },
  {
   "cell_type": "code",
   "execution_count": 17,
   "id": "59504213-ce22-4bc2-823b-6c99fcb90d28",
   "metadata": {},
   "outputs": [
    {
     "data": {
      "text/html": [
       "<div>\n",
       "<style scoped>\n",
       "    .dataframe tbody tr th:only-of-type {\n",
       "        vertical-align: middle;\n",
       "    }\n",
       "\n",
       "    .dataframe tbody tr th {\n",
       "        vertical-align: top;\n",
       "    }\n",
       "\n",
       "    .dataframe thead th {\n",
       "        text-align: right;\n",
       "    }\n",
       "</style>\n",
       "<table border=\"1\" class=\"dataframe\">\n",
       "  <thead>\n",
       "    <tr style=\"text-align: right;\">\n",
       "      <th></th>\n",
       "      <th>Country</th>\n",
       "      <th>IMF_Forecast</th>\n",
       "      <th>IMF_Year</th>\n",
       "      <th>World Bank_Estimate</th>\n",
       "      <th>World Bank_Year</th>\n",
       "      <th>UN_Estimate</th>\n",
       "      <th>UN_Year</th>\n",
       "    </tr>\n",
       "  </thead>\n",
       "  <tbody>\n",
       "    <tr>\n",
       "      <th>0</th>\n",
       "      <td>World</td>\n",
       "      <td>109529216</td>\n",
       "      <td>2024</td>\n",
       "      <td>105435540</td>\n",
       "      <td>2023</td>\n",
       "      <td>100834796</td>\n",
       "      <td>2022</td>\n",
       "    </tr>\n",
       "    <tr>\n",
       "      <th>1</th>\n",
       "      <td>United States</td>\n",
       "      <td>28781083</td>\n",
       "      <td>2024</td>\n",
       "      <td>27360935</td>\n",
       "      <td>2023</td>\n",
       "      <td>25744100</td>\n",
       "      <td>2022</td>\n",
       "    </tr>\n",
       "    <tr>\n",
       "      <th>2</th>\n",
       "      <td>China</td>\n",
       "      <td>18532633</td>\n",
       "      <td>[n 1]2024</td>\n",
       "      <td>17794782</td>\n",
       "      <td>[n 3]2023</td>\n",
       "      <td>17963170</td>\n",
       "      <td>[n 1]2022</td>\n",
       "    </tr>\n",
       "    <tr>\n",
       "      <th>3</th>\n",
       "      <td>Germany</td>\n",
       "      <td>4591100</td>\n",
       "      <td>2024</td>\n",
       "      <td>4456081</td>\n",
       "      <td>2023</td>\n",
       "      <td>4076923</td>\n",
       "      <td>2022</td>\n",
       "    </tr>\n",
       "    <tr>\n",
       "      <th>4</th>\n",
       "      <td>Japan</td>\n",
       "      <td>4110452</td>\n",
       "      <td>2024</td>\n",
       "      <td>4212945</td>\n",
       "      <td>2023</td>\n",
       "      <td>4232173</td>\n",
       "      <td>2022</td>\n",
       "    </tr>\n",
       "  </tbody>\n",
       "</table>\n",
       "</div>"
      ],
      "text/plain": [
       "         Country IMF_Forecast   IMF_Year World Bank_Estimate World Bank_Year  \\\n",
       "0          World    109529216       2024           105435540            2023   \n",
       "1  United States     28781083       2024            27360935            2023   \n",
       "2          China     18532633  [n 1]2024            17794782       [n 3]2023   \n",
       "3        Germany      4591100       2024             4456081            2023   \n",
       "4          Japan      4110452       2024             4212945            2023   \n",
       "\n",
       "  UN_Estimate    UN_Year  \n",
       "0   100834796       2022  \n",
       "1    25744100       2022  \n",
       "2    17963170  [n 1]2022  \n",
       "3     4076923       2022  \n",
       "4     4232173       2022  "
      ]
     },
     "execution_count": 17,
     "metadata": {},
     "output_type": "execute_result"
    }
   ],
   "source": [
    "#4.Змінити назви стовпців на більш зручні, наприклад Country MVF_2024 WorldBank_2023 OON_2022\n",
    "\n",
    "\n",
    "#1 етап\n",
    "current_columns = [\n",
    "    ( 'Country/Territory', 'Country/Territory'),\n",
    "            (        'IMF[1][13]',          'Forecast'),\n",
    "            (        'IMF[1][13]',              'Year'),\n",
    "            (    'World Bank[14]',          'Estimate'),\n",
    "            (    'World Bank[14]',              'Year'),\n",
    "            ('United Nations[15]',          'Estimate'),\n",
    "            ('United Nations[15]',              'Year')\n",
    "]\n",
    "new_columns = [\n",
    "    'Country',\n",
    "    'IMF_Forecast',\n",
    "    'IMF_Year',\n",
    "    'World Bank_Estimate',\n",
    "    'World Bank_Year',\n",
    "    'UN_Estimate',\n",
    "    'UN_Year'\n",
    "]\n",
    "\n",
    "df.columns = new_columns\n",
    "df.head()"
   ]
  },
  {
   "cell_type": "code",
   "execution_count": 24,
   "id": "93ceb489-5940-4693-96ca-32605bdd21ed",
   "metadata": {},
   "outputs": [
    {
     "data": {
      "text/html": [
       "<div>\n",
       "<style scoped>\n",
       "    .dataframe tbody tr th:only-of-type {\n",
       "        vertical-align: middle;\n",
       "    }\n",
       "\n",
       "    .dataframe tbody tr th {\n",
       "        vertical-align: top;\n",
       "    }\n",
       "\n",
       "    .dataframe thead th {\n",
       "        text-align: right;\n",
       "    }\n",
       "</style>\n",
       "<table border=\"1\" class=\"dataframe\">\n",
       "  <thead>\n",
       "    <tr style=\"text-align: right;\">\n",
       "      <th></th>\n",
       "      <th>Country</th>\n",
       "      <th>MVF_2024</th>\n",
       "      <th>WorldBank_2023</th>\n",
       "      <th>OON_2022</th>\n",
       "    </tr>\n",
       "  </thead>\n",
       "  <tbody>\n",
       "    <tr>\n",
       "      <th>0</th>\n",
       "      <td>World</td>\n",
       "      <td>109529216</td>\n",
       "      <td>105435540</td>\n",
       "      <td>100834796</td>\n",
       "    </tr>\n",
       "    <tr>\n",
       "      <th>1</th>\n",
       "      <td>United States</td>\n",
       "      <td>28781083</td>\n",
       "      <td>27360935</td>\n",
       "      <td>25744100</td>\n",
       "    </tr>\n",
       "    <tr>\n",
       "      <th>2</th>\n",
       "      <td>China</td>\n",
       "      <td>18532633</td>\n",
       "      <td>17794782</td>\n",
       "      <td>17963170</td>\n",
       "    </tr>\n",
       "    <tr>\n",
       "      <th>3</th>\n",
       "      <td>Germany</td>\n",
       "      <td>4591100</td>\n",
       "      <td>4456081</td>\n",
       "      <td>4076923</td>\n",
       "    </tr>\n",
       "    <tr>\n",
       "      <th>4</th>\n",
       "      <td>Japan</td>\n",
       "      <td>4110452</td>\n",
       "      <td>4212945</td>\n",
       "      <td>4232173</td>\n",
       "    </tr>\n",
       "  </tbody>\n",
       "</table>\n",
       "</div>"
      ],
      "text/plain": [
       "         Country   MVF_2024 WorldBank_2023   OON_2022\n",
       "0          World  109529216      105435540  100834796\n",
       "1  United States   28781083       27360935   25744100\n",
       "2          China   18532633       17794782   17963170\n",
       "3        Germany    4591100        4456081    4076923\n",
       "4          Japan    4110452        4212945    4232173"
      ]
     },
     "execution_count": 24,
     "metadata": {},
     "output_type": "execute_result"
    }
   ],
   "source": [
    "#4.Змінити назви стовпців на більш зручні, наприклад Country MVF_2024 WorldBank_2023 OON_2022\n",
    "\n",
    "#РЕЗУЛЬТАТ\n",
    "selected_columns = {\n",
    "    'IMF_Forecast': 'MVF_2024',\n",
    "    'World Bank_Estimate' : 'WorldBank_2023',\n",
    "    'UN_Estimate' : 'OON_2022'\n",
    "}\n",
    "df1 = df[[ 'Country'] + list(selected_columns.keys())]\n",
    "df = df1.rename(columns=selected_columns)\n",
    "df.head()"
   ]
  },
  {
   "cell_type": "code",
   "execution_count": 37,
   "id": "6f0c870f-3425-43d7-b8e8-c6071683eeef",
   "metadata": {},
   "outputs": [
    {
     "data": {
      "text/plain": [
       "Country           object\n",
       "MVF_2024          object\n",
       "WorldBank_2023    object\n",
       "OON_2022          object\n",
       "dtype: object"
      ]
     },
     "execution_count": 37,
     "metadata": {},
     "output_type": "execute_result"
    }
   ],
   "source": [
    "#5.Визначити тип даних.\n",
    "df.dtypes"
   ]
  },
  {
   "cell_type": "code",
   "execution_count": 57,
   "id": "9f4a4b0a-118d-4935-9b26-477992af3d60",
   "metadata": {},
   "outputs": [
    {
     "name": "stdout",
     "output_type": "stream",
     "text": [
      "\n",
      "наявність пропущених значень:\n",
      " Country            0\n",
      "MVF_2024          15\n",
      "WorldBank_2023     8\n",
      "OON_2022           1\n",
      "dtype: int64\n"
     ]
    },
    {
     "data": {
      "text/html": [
       "<div>\n",
       "<style scoped>\n",
       "    .dataframe tbody tr th:only-of-type {\n",
       "        vertical-align: middle;\n",
       "    }\n",
       "\n",
       "    .dataframe tbody tr th {\n",
       "        vertical-align: top;\n",
       "    }\n",
       "\n",
       "    .dataframe thead th {\n",
       "        text-align: right;\n",
       "    }\n",
       "</style>\n",
       "<table border=\"1\" class=\"dataframe\">\n",
       "  <thead>\n",
       "    <tr style=\"text-align: right;\">\n",
       "      <th></th>\n",
       "      <th>Country</th>\n",
       "      <th>MVF_2024</th>\n",
       "      <th>WorldBank_2023</th>\n",
       "      <th>OON_2022</th>\n",
       "    </tr>\n",
       "  </thead>\n",
       "  <tbody>\n",
       "    <tr>\n",
       "      <th>0</th>\n",
       "      <td>World</td>\n",
       "      <td>109529216.0</td>\n",
       "      <td>105435540.0</td>\n",
       "      <td>100834796.0</td>\n",
       "    </tr>\n",
       "    <tr>\n",
       "      <th>1</th>\n",
       "      <td>United States</td>\n",
       "      <td>28781083.0</td>\n",
       "      <td>27360935.0</td>\n",
       "      <td>25744100.0</td>\n",
       "    </tr>\n",
       "    <tr>\n",
       "      <th>2</th>\n",
       "      <td>China</td>\n",
       "      <td>18532633.0</td>\n",
       "      <td>17794782.0</td>\n",
       "      <td>17963170.0</td>\n",
       "    </tr>\n",
       "    <tr>\n",
       "      <th>3</th>\n",
       "      <td>Germany</td>\n",
       "      <td>4591100.0</td>\n",
       "      <td>4456081.0</td>\n",
       "      <td>4076923.0</td>\n",
       "    </tr>\n",
       "    <tr>\n",
       "      <th>4</th>\n",
       "      <td>Japan</td>\n",
       "      <td>4110452.0</td>\n",
       "      <td>4212945.0</td>\n",
       "      <td>4232173.0</td>\n",
       "    </tr>\n",
       "    <tr>\n",
       "      <th>5</th>\n",
       "      <td>India</td>\n",
       "      <td>3937011.0</td>\n",
       "      <td>3549919.0</td>\n",
       "      <td>3465541.0</td>\n",
       "    </tr>\n",
       "    <tr>\n",
       "      <th>6</th>\n",
       "      <td>United Kingdom</td>\n",
       "      <td>3495261.0</td>\n",
       "      <td>3340032.0</td>\n",
       "      <td>3089072.0</td>\n",
       "    </tr>\n",
       "    <tr>\n",
       "      <th>7</th>\n",
       "      <td>France</td>\n",
       "      <td>3130014.0</td>\n",
       "      <td>3030904.0</td>\n",
       "      <td>2775316.0</td>\n",
       "    </tr>\n",
       "    <tr>\n",
       "      <th>8</th>\n",
       "      <td>Brazil</td>\n",
       "      <td>2331391.0</td>\n",
       "      <td>2173666.0</td>\n",
       "      <td>1920095.0</td>\n",
       "    </tr>\n",
       "    <tr>\n",
       "      <th>9</th>\n",
       "      <td>Italy</td>\n",
       "      <td>2328028.0</td>\n",
       "      <td>2254851.0</td>\n",
       "      <td>2046952.0</td>\n",
       "    </tr>\n",
       "  </tbody>\n",
       "</table>\n",
       "</div>"
      ],
      "text/plain": [
       "          Country     MVF_2024  WorldBank_2023     OON_2022\n",
       "0           World  109529216.0     105435540.0  100834796.0\n",
       "1   United States   28781083.0      27360935.0   25744100.0\n",
       "2           China   18532633.0      17794782.0   17963170.0\n",
       "3         Germany    4591100.0       4456081.0    4076923.0\n",
       "4           Japan    4110452.0       4212945.0    4232173.0\n",
       "5           India    3937011.0       3549919.0    3465541.0\n",
       "6  United Kingdom    3495261.0       3340032.0    3089072.0\n",
       "7          France    3130014.0       3030904.0    2775316.0\n",
       "8          Brazil    2331391.0       2173666.0    1920095.0\n",
       "9           Italy    2328028.0       2254851.0    2046952.0"
      ]
     },
     "execution_count": 57,
     "metadata": {},
     "output_type": "execute_result"
    }
   ],
   "source": [
    "#6.Замініть у таблиці значення \"—\" на значення NaN. Перевірити наявність пропущених значень. При наявності, замінити пропущені значення на середнє значення.\n",
    "print(\"\\nнаявність пропущених значень:\\n\",df.isnull().sum())\n",
    "\n",
    "df.replace('—', np.nan, inplace=True)\n",
    "\n",
    "df['MVF_2024'] = pd.to_numeric(df['MVF_2024'], errors='coerce')\n",
    "df['WorldBank_2023'] = pd.to_numeric(df['WorldBank_2023'], errors='coerce')\n",
    "df['OON_2022'] = pd.to_numeric(df['OON_2022'], errors='coerce')\n",
    "\n",
    "df.head(10)"
   ]
  },
  {
   "cell_type": "code",
   "execution_count": 60,
   "id": "c2822625-90d4-4512-b840-46b49240dfeb",
   "metadata": {},
   "outputs": [
    {
     "data": {
      "text/html": [
       "<div>\n",
       "<style scoped>\n",
       "    .dataframe tbody tr th:only-of-type {\n",
       "        vertical-align: middle;\n",
       "    }\n",
       "\n",
       "    .dataframe tbody tr th {\n",
       "        vertical-align: top;\n",
       "    }\n",
       "\n",
       "    .dataframe thead th {\n",
       "        text-align: right;\n",
       "    }\n",
       "</style>\n",
       "<table border=\"1\" class=\"dataframe\">\n",
       "  <thead>\n",
       "    <tr style=\"text-align: right;\">\n",
       "      <th></th>\n",
       "      <th>Country</th>\n",
       "      <th>MVF_2024</th>\n",
       "      <th>WorldBank_2023</th>\n",
       "      <th>OON_2022</th>\n",
       "    </tr>\n",
       "  </thead>\n",
       "  <tbody>\n",
       "    <tr>\n",
       "      <th>0</th>\n",
       "      <td>World</td>\n",
       "      <td>109529216.0</td>\n",
       "      <td>105435540.0</td>\n",
       "      <td>100834796.0</td>\n",
       "    </tr>\n",
       "    <tr>\n",
       "      <th>1</th>\n",
       "      <td>United States</td>\n",
       "      <td>28781083.0</td>\n",
       "      <td>27360935.0</td>\n",
       "      <td>25744100.0</td>\n",
       "    </tr>\n",
       "    <tr>\n",
       "      <th>2</th>\n",
       "      <td>China</td>\n",
       "      <td>18532633.0</td>\n",
       "      <td>17794782.0</td>\n",
       "      <td>17963170.0</td>\n",
       "    </tr>\n",
       "    <tr>\n",
       "      <th>3</th>\n",
       "      <td>Germany</td>\n",
       "      <td>4591100.0</td>\n",
       "      <td>4456081.0</td>\n",
       "      <td>4076923.0</td>\n",
       "    </tr>\n",
       "    <tr>\n",
       "      <th>4</th>\n",
       "      <td>Japan</td>\n",
       "      <td>4110452.0</td>\n",
       "      <td>4212945.0</td>\n",
       "      <td>4232173.0</td>\n",
       "    </tr>\n",
       "  </tbody>\n",
       "</table>\n",
       "</div>"
      ],
      "text/plain": [
       "         Country     MVF_2024  WorldBank_2023     OON_2022\n",
       "0          World  109529216.0     105435540.0  100834796.0\n",
       "1  United States   28781083.0      27360935.0   25744100.0\n",
       "2          China   18532633.0      17794782.0   17963170.0\n",
       "3        Germany    4591100.0       4456081.0    4076923.0\n",
       "4          Japan    4110452.0       4212945.0    4232173.0"
      ]
     },
     "execution_count": 60,
     "metadata": {},
     "output_type": "execute_result"
    }
   ],
   "source": [
    "#Прибираємо пропущені значення\n",
    "\n",
    "df = df.replace({'—': np.nan})\n",
    "df = df.fillna(df.mean(numeric_only=True), axis=0)\n",
    "df.head(5)"
   ]
  },
  {
   "cell_type": "code",
   "execution_count": 61,
   "id": "f9db4f75-ab85-4880-8557-c821f09921a3",
   "metadata": {},
   "outputs": [
    {
     "data": {
      "text/plain": [
       "Country            object\n",
       "MVF_2024          float64\n",
       "WorldBank_2023    float64\n",
       "OON_2022          float64\n",
       "dtype: object"
      ]
     },
     "execution_count": 61,
     "metadata": {},
     "output_type": "execute_result"
    }
   ],
   "source": [
    "df.dtypes"
   ]
  },
  {
   "cell_type": "code",
   "execution_count": 62,
   "id": "5f75e165-ccf3-4eb2-95ac-5a879fca618f",
   "metadata": {},
   "outputs": [
    {
     "name": "stdout",
     "output_type": "stream",
     "text": [
      "\n",
      "наявність пропущених значень:\n",
      " Country           0\n",
      "MVF_2024          0\n",
      "WorldBank_2023    0\n",
      "OON_2022          0\n",
      "dtype: int64\n"
     ]
    }
   ],
   "source": [
    "#7.Ще раз перевірити наявність пропущених значень.\n",
    "print(\"\\nнаявність пропущених значень:\\n\",df.isnull().sum())"
   ]
  },
  {
   "cell_type": "code",
   "execution_count": 70,
   "id": "c490a504-bcc5-42f9-9d93-0bd3558ecdba",
   "metadata": {},
   "outputs": [
    {
     "data": {
      "text/plain": [
       "0      False\n",
       "1      False\n",
       "2      False\n",
       "3      False\n",
       "4      False\n",
       "       ...  \n",
       "205    False\n",
       "206    False\n",
       "207    False\n",
       "208    False\n",
       "209    False\n",
       "Length: 210, dtype: bool"
      ]
     },
     "execution_count": 70,
     "metadata": {},
     "output_type": "execute_result"
    }
   ],
   "source": [
    "#8.Перевірити наявність дублікатів. При наявності видалити дублікати.\n",
    "df.duplicated()\n"
   ]
  },
  {
   "cell_type": "code",
   "execution_count": 73,
   "id": "edfbeb05-658d-4746-85e9-4b0aaebb7624",
   "metadata": {},
   "outputs": [],
   "source": [
    "df_cleaned = df.drop_duplicates()"
   ]
  },
  {
   "cell_type": "code",
   "execution_count": 77,
   "id": "d1659dff-a8e7-4d4d-af68-36d33d96cd3c",
   "metadata": {},
   "outputs": [
    {
     "data": {
      "text/html": [
       "<div>\n",
       "<style scoped>\n",
       "    .dataframe tbody tr th:only-of-type {\n",
       "        vertical-align: middle;\n",
       "    }\n",
       "\n",
       "    .dataframe tbody tr th {\n",
       "        vertical-align: top;\n",
       "    }\n",
       "\n",
       "    .dataframe thead th {\n",
       "        text-align: right;\n",
       "    }\n",
       "</style>\n",
       "<table border=\"1\" class=\"dataframe\">\n",
       "  <thead>\n",
       "    <tr style=\"text-align: right;\">\n",
       "      <th></th>\n",
       "      <th>MVF_2024</th>\n",
       "      <th>WorldBank_2023</th>\n",
       "      <th>OON_2022</th>\n",
       "    </tr>\n",
       "  </thead>\n",
       "  <tbody>\n",
       "    <tr>\n",
       "      <th>count</th>\n",
       "      <td>2.100000e+02</td>\n",
       "      <td>2.100000e+02</td>\n",
       "      <td>2.100000e+02</td>\n",
       "    </tr>\n",
       "    <tr>\n",
       "      <th>mean</th>\n",
       "      <td>1.123228e+06</td>\n",
       "      <td>1.037206e+06</td>\n",
       "      <td>9.612699e+05</td>\n",
       "    </tr>\n",
       "    <tr>\n",
       "      <th>std</th>\n",
       "      <td>7.900707e+06</td>\n",
       "      <td>7.602076e+06</td>\n",
       "      <td>7.275608e+06</td>\n",
       "    </tr>\n",
       "    <tr>\n",
       "      <th>min</th>\n",
       "      <td>6.600000e+01</td>\n",
       "      <td>6.200000e+01</td>\n",
       "      <td>5.900000e+01</td>\n",
       "    </tr>\n",
       "    <tr>\n",
       "      <th>25%</th>\n",
       "      <td>1.464775e+04</td>\n",
       "      <td>1.044175e+04</td>\n",
       "      <td>8.928250e+03</td>\n",
       "    </tr>\n",
       "    <tr>\n",
       "      <th>50%</th>\n",
       "      <td>6.215800e+04</td>\n",
       "      <td>4.341600e+04</td>\n",
       "      <td>3.210250e+04</td>\n",
       "    </tr>\n",
       "    <tr>\n",
       "      <th>75%</th>\n",
       "      <td>4.366365e+05</td>\n",
       "      <td>3.376592e+05</td>\n",
       "      <td>2.412485e+05</td>\n",
       "    </tr>\n",
       "    <tr>\n",
       "      <th>max</th>\n",
       "      <td>1.095292e+08</td>\n",
       "      <td>1.054355e+08</td>\n",
       "      <td>1.008348e+08</td>\n",
       "    </tr>\n",
       "  </tbody>\n",
       "</table>\n",
       "</div>"
      ],
      "text/plain": [
       "           MVF_2024  WorldBank_2023      OON_2022\n",
       "count  2.100000e+02    2.100000e+02  2.100000e+02\n",
       "mean   1.123228e+06    1.037206e+06  9.612699e+05\n",
       "std    7.900707e+06    7.602076e+06  7.275608e+06\n",
       "min    6.600000e+01    6.200000e+01  5.900000e+01\n",
       "25%    1.464775e+04    1.044175e+04  8.928250e+03\n",
       "50%    6.215800e+04    4.341600e+04  3.210250e+04\n",
       "75%    4.366365e+05    3.376592e+05  2.412485e+05\n",
       "max    1.095292e+08    1.054355e+08  1.008348e+08"
      ]
     },
     "execution_count": 77,
     "metadata": {},
     "output_type": "execute_result"
    }
   ],
   "source": [
    "#9.Вивести описову статистику датасету describe()\n",
    "\n",
    "df_stats = df.describe()\n",
    "df_stats"
   ]
  },
  {
   "cell_type": "code",
   "execution_count": 112,
   "id": "53ea0377-b9e2-4f3b-b7bd-657b7f097bff",
   "metadata": {},
   "outputs": [],
   "source": [
    "df = df[df['Country'] != 'World']\n"
   ]
  },
  {
   "cell_type": "code",
   "execution_count": 113,
   "id": "68d3e9c6-a0c1-47eb-b5a0-88e0232fe3a5",
   "metadata": {},
   "outputs": [
    {
     "name": "stdout",
     "output_type": "stream",
     "text": [
      "              Country  Deviation\n",
      "1       United States  1420148.0\n",
      "2               China   737851.0\n",
      "3             Germany   135019.0\n",
      "4               Japan  -102493.0\n",
      "5               India   387092.0\n",
      "..                ...        ...\n",
      "205          Kiribati       32.0\n",
      "206             Palau       45.0\n",
      "207  Marshall Islands       21.0\n",
      "208             Nauru        7.0\n",
      "209            Tuvalu        4.0\n",
      "\n",
      "[209 rows x 2 columns]\n",
      "Найбільше відхилення спостерігається в United States\n"
     ]
    }
   ],
   "source": [
    "#10.Визначте відхилення (різницю) між показниками MVF_2024 та WorldBank_2023 для кожної країни. У яких країнах ці показники найбільше відрізняються (дати відповідт)?\n",
    "df['Deviation'] = df['MVF_2024'] - df['WorldBank_2023']\n",
    "print(df[['Country', 'Deviation']])\n",
    "print('Найбільше відхилення спостерігається в United States')\n"
   ]
  },
  {
   "cell_type": "code",
   "execution_count": 114,
   "id": "81f9804b-69ee-4e04-90da-38dc7cac91de",
   "metadata": {},
   "outputs": [
    {
     "name": "stdout",
     "output_type": "stream",
     "text": [
      "                MVF_2024  WorldBank_2023  OON_2022\n",
      "MVF_2024        1.000000        0.993137  0.992032\n",
      "WorldBank_2023  0.993137        1.000000  0.996336\n",
      "OON_2022        0.992032        0.996336  1.000000\n",
      "Найвища кореляція спостерігається в усіх стовбцях\n"
     ]
    }
   ],
   "source": [
    "#11.Обчисліть кореляцію між показниками MVF_2024, WorldBank_2023 та OON_2022. Які пари змінних мають найвищу кореляцію?\n",
    "df11 = df[['MVF_2024','WorldBank_2023', 'OON_2022']]\n",
    "print(df11.corr())\n",
    "print('Найвища кореляція спостерігається в усіх стовбцях')"
   ]
  },
  {
   "cell_type": "code",
   "execution_count": 115,
   "id": "53e7d688-39f5-420e-9f4e-0c20985c74d0",
   "metadata": {},
   "outputs": [
    {
     "name": "stdout",
     "output_type": "stream",
     "text": [
      "MVF_2024          604538.747884\n",
      "WorldBank_2023    537692.609314\n",
      "OON_2022          483406.095007\n",
      "dtype: float64\n",
      "Середні значення змінюються між роками наступним чином:середні значення показників змінюються між роками таким чином, що MVF_2024 має найбільше значення, за ним слідує WorldBank_2023, а OON_2022 має найменше середнє значення. \n"
     ]
    }
   ],
   "source": [
    "#12.Обчисліть середнє значення для кожного стовпця (MVF_2024, WorldBank_2023, OON_2022). Як це середнє значення змінюється між роками?\n",
    "df12 = df[['MVF_2024', 'WorldBank_2023', 'OON_2022']].mean()\n",
    "print(df12)\n",
    "print('Середні значення змінюються між роками наступним чином:середні значення показників змінюються між роками таким чином, що MVF_2024 має найбільше значення, за ним слідує WorldBank_2023, а OON_2022 має найменше середнє значення. ')\n"
   ]
  },
  {
   "cell_type": "code",
   "execution_count": 116,
   "id": "11cf0849-c45c-4f90-843c-e9e3ee4dca35",
   "metadata": {},
   "outputs": [
    {
     "name": "stdout",
     "output_type": "stream",
     "text": [
      "Найвища варіативність у показниках між роками спостерігається у United States\n"
     ]
    }
   ],
   "source": [
    "#13.Обчисліть стандартне відхилення показників для кожної країни. Яка країна має найвищу варіативність у показниках між роками?\n",
    "df['Std_Deviation'] = df[['MVF_2024', 'WorldBank_2023', 'OON_2022']].std(axis=1)\n",
    "df[['Country', 'Std_Deviation']]\n",
    "print('Найвища варіативність у показниках між роками спостерігається у United States')"
   ]
  },
  {
   "cell_type": "code",
   "execution_count": 117,
   "id": "aede0271-4c3e-47fe-b7dd-d5fc8b16ddf2",
   "metadata": {},
   "outputs": [
    {
     "name": "stdout",
     "output_type": "stream",
     "text": [
      "Країни та їх найвищі показники\n",
      "         Country    MVF_2024\n",
      "1  United States  28781083.0\n",
      "Empty DataFrame\n",
      "Columns: [Country, WorldBank_2023]\n",
      "Index: []\n",
      "Empty DataFrame\n",
      "Columns: [Country, OON_2022]\n",
      "Index: []\n",
      "Країни та їх найнищими показники\n",
      "    Country  MVF_2024\n",
      "209  Tuvalu      66.0\n",
      "Empty DataFrame\n",
      "Columns: [Country, WorldBank_2023]\n",
      "Index: []\n",
      "Empty DataFrame\n",
      "Columns: [Country, OON_2022]\n",
      "Index: []\n"
     ]
    }
   ],
   "source": [
    "#14.Визначення країни з найвищим та найнижчим показниками: Знайдіть країну з найвищим та найнижчим показниками у кожному з років (MVF_2024, WorldBank_2023, OON_2022).\n",
    "\n",
    "print('Країни та їх найвищі показники')\n",
    "print(df[df['MVF_2024'] == df['MVF_2024'].max()][['Country', 'MVF_2024']])\n",
    "print(df[df['WorldBank_2023'] == df['MVF_2024'].max()][['Country', 'WorldBank_2023']])\n",
    "print(df[df['OON_2022'] == df['MVF_2024'].max()][['Country', 'OON_2022']])\n",
    "\n",
    "print('Країни та їх найнищими показники')\n",
    "print(df[df['MVF_2024'] == df['MVF_2024'].min()][['Country', 'MVF_2024']])\n",
    "print(df[df['WorldBank_2023'] == df['MVF_2024'].min()][['Country', 'WorldBank_2023']])\n",
    "print(df[df['OON_2022'] == df['MVF_2024'].min()][['Country', 'OON_2022']])"
   ]
  },
  {
   "cell_type": "code",
   "execution_count": 118,
   "id": "932b51ae-bcd1-45f0-9fa4-245934e35aa2",
   "metadata": {},
   "outputs": [
    {
     "data": {
      "image/png": "[encoded data removed]",
      "text/plain": [
       "<Figure size 640x480 with 1 Axes>"
      ]
     },
     "metadata": {},
     "output_type": "display_data"
    },
    {
     "name": "stdout",
     "output_type": "stream",
     "text": [
      "Гістограма показує розподіл значень MVF_2024. Назви країн з найвищими показниками відзначені на графіку.\n"
     ]
    }
   ],
   "source": [
    "#Побудуйте гістограму для розподілу показників MVF_2024 серед всіх країн. Який вигляд має розподіл? Чи є країни, що виділяються?\n",
    "\n",
    "import matplotlib.pyplot as plt\n",
    "\n",
    "# Побудова гістограми для MVF_2024\n",
    "plt.hist(df['MVF_2024'], bins=20, edgecolor='black')\n",
    "\n",
    "# Додавання підписів для країн з найвищими значеннями\n",
    "top_countries = df.nlargest(5, 'MVF_2024')  # вибрати топ 5 країн за MVF_2024\n",
    "for i, row in top_countries.iterrows():\n",
    "    plt.text(row['MVF_2024'], 0.5, row['Country'], rotation=90, verticalalignment='center')\n",
    "\n",
    "plt.xlabel('MVF_2024')\n",
    "plt.ylabel('Частота')\n",
    "plt.title('Розподіл показників MVF_2024 серед усіх країн')\n",
    "plt.show()\n",
    "\n",
    "print(\"Назви країн з найвищими показниками відзначені на графіку.Значну перевагу має Індія\")\n"
   ]
  },
  {
   "cell_type": "code",
   "execution_count": 119,
   "id": "2c5458bf-6fee-421f-bbb2-d515172e35ee",
   "metadata": {},
   "outputs": [
    {
     "name": "stdout",
     "output_type": "stream",
     "text": [
      "              Country  MVF_2024_Share  WorldBank_2023_Share  OON_2022_Share\n",
      "1       United States    2.277911e-01          2.434729e-01    2.548117e-01\n",
      "2               China    1.466786e-01          1.583479e-01    1.777971e-01\n",
      "3             Germany    3.633677e-02          3.965270e-02    4.035284e-02\n",
      "4               Japan    3.253263e-02          3.748914e-02    4.188948e-02\n",
      "5               India    3.115991e-02          3.158916e-02    3.430146e-02\n",
      "..                ...             ...                   ...             ...\n",
      "205          Kiribati    2.461444e-06          2.482698e-06    2.207224e-06\n",
      "206             Palau    2.437700e-06          2.340321e-06    2.227020e-06\n",
      "207  Marshall Islands    2.413956e-06          2.527191e-06    2.761505e-06\n",
      "208             Nauru    1.274252e-06          1.370378e-06    1.454986e-06\n",
      "209            Tuvalu    5.223643e-07          5.517106e-07    5.839741e-07\n",
      "\n",
      "[209 rows x 4 columns]\n",
      "United States має значну частку у кожному році, з невеликим зростанням з 2024 до 2023 та 2022 року.China показує помірний зріст частки протягом часового періоду, що може вказувати на зростання економічного впливу.Germany і Japan мають менші частки в порівнянні з попередніми країнами, з невеликими коливаннями часток протягом років.\n"
     ]
    }
   ],
   "source": [
    "#16.Розрахуйте частку кожної країни в загальному значенні для кожного року (MVF_2024, WorldBank_2023, OON_2022). Як змінюються частки країн з часом (дати відповідь)?\n",
    "# Розрахунок загальних значень\n",
    "total_mvf = df['MVF_2024'].sum()\n",
    "total_wb = df['WorldBank_2023'].sum()\n",
    "total_oon = df['OON_2022'].sum()\n",
    "\n",
    "# Розрахунок часток\n",
    "df['MVF_2024_Share'] = df['MVF_2024'] / total_mvf\n",
    "df['WorldBank_2023_Share'] = df['WorldBank_2023'] / total_wb\n",
    "df['OON_2022_Share'] = df['OON_2022'] / total_oon\n",
    "\n",
    "print(df[['Country', 'MVF_2024_Share', 'WorldBank_2023_Share', 'OON_2022_Share']])\n",
    "print('United States має значну частку у кожному році, з невеликим зростанням з 2024 до 2023 та 2022 року.China показує помірний зріст частки протягом часового періоду, що може вказувати на зростання економічного впливу.Germany і Japan мають менші частки в порівнянні з попередніми країнами, з невеликими коливаннями часток протягом років.')\n"
   ]
  },
  {
   "cell_type": "code",
   "execution_count": 3,
   "id": "619bd9eb-5ac9-44c3-8206-694178633e69",
   "metadata": {},
   "outputs": [
    {
     "ename": "NameError",
     "evalue": "name 'df' is not defined",
     "output_type": "error",
     "traceback": [
      "\u001b[1;31m---------------------------------------------------------------------------\u001b[0m",
      "\u001b[1;31mNameError\u001b[0m                                 Traceback (most recent call last)",
      "Cell \u001b[1;32mIn[3], line 4\u001b[0m\n\u001b[0;32m      1\u001b[0m \u001b[38;5;28;01mimport\u001b[39;00m \u001b[38;5;21;01mmatplotlib\u001b[39;00m\u001b[38;5;21;01m.\u001b[39;00m\u001b[38;5;21;01mpyplot\u001b[39;00m \u001b[38;5;28;01mas\u001b[39;00m \u001b[38;5;21;01mplt\u001b[39;00m\n\u001b[0;32m      3\u001b[0m \u001b[38;5;66;03m# Візуалізація змін показників для кожної країни\u001b[39;00m\n\u001b[1;32m----> 4\u001b[0m df_melted \u001b[38;5;241m=\u001b[39m \u001b[43mdf\u001b[49m\u001b[38;5;241m.\u001b[39mmelt(id_vars\u001b[38;5;241m=\u001b[39m\u001b[38;5;124m'\u001b[39m\u001b[38;5;124mCountry\u001b[39m\u001b[38;5;124m'\u001b[39m, value_vars\u001b[38;5;241m=\u001b[39m[\u001b[38;5;124m'\u001b[39m\u001b[38;5;124mMVF_2024\u001b[39m\u001b[38;5;124m'\u001b[39m, \u001b[38;5;124m'\u001b[39m\u001b[38;5;124mWorldBank_2023\u001b[39m\u001b[38;5;124m'\u001b[39m, \u001b[38;5;124m'\u001b[39m\u001b[38;5;124mOON_2022\u001b[39m\u001b[38;5;124m'\u001b[39m], \n\u001b[0;32m      5\u001b[0m                     var_name\u001b[38;5;241m=\u001b[39m\u001b[38;5;124m'\u001b[39m\u001b[38;5;124mYear\u001b[39m\u001b[38;5;124m'\u001b[39m, value_name\u001b[38;5;241m=\u001b[39m\u001b[38;5;124m'\u001b[39m\u001b[38;5;124mValue\u001b[39m\u001b[38;5;124m'\u001b[39m)\n\u001b[0;32m      7\u001b[0m plt\u001b[38;5;241m.\u001b[39mfigure(figsize\u001b[38;5;241m=\u001b[39m(\u001b[38;5;241m10\u001b[39m, \u001b[38;5;241m6\u001b[39m))\n\u001b[0;32m      8\u001b[0m \u001b[38;5;28;01mfor\u001b[39;00m country \u001b[38;5;129;01min\u001b[39;00m df[\u001b[38;5;124m'\u001b[39m\u001b[38;5;124mCountry\u001b[39m\u001b[38;5;124m'\u001b[39m]:\n",
      "\u001b[1;31mNameError\u001b[0m: name 'df' is not defined"
     ]
    }
   ],
   "source": [
    "import matplotlib.pyplot as plt\n",
    "\n",
    "\n",
    "df_melted = df.melt(id_vars='Country', value_vars=['MVF_2024', 'WorldBank_2023', 'OON_2022'], \n",
    "                    var_name='Year', value_name='Value')\n",
    "\n",
    "plt.figure(figsize=(10, 6))\n",
    "for country in df['Country']:\n",
    "    country_data = df_melted[df_melted['Country'] == country]\n",
    "    plt.plot(country_data['Year'], country_data['Value'], marker='o', label=country)\n",
    "\n",
    "plt.xlabel('Рік')\n",
    "plt.ylabel('Показник')\n",
    "plt.title('Зміни показників для кожної країни за три роки')\n",
    "plt.legend(loc='upper left', bbox_to_anchor=(1, 1))\n",
    "plt.grid(True)\n",
    "plt.show()\n",
    "\n",
    "\n",
    "print('Тенденція на спад серед лідерів спостерігається у: United States')\n",
    "print('Більш-менш стабільну рівну тенденцію спостерігаємо у: Mexico')\n"
   ]
  },
  {
   "cell_type": "code",
   "execution_count": null,
   "id": "704e1aec-0ffe-4277-9fa5-679934b2baf2",
   "metadata": {},
   "outputs": [],
   "source": []
  }
 ],
 "metadata": {
  "kernelspec": {
   "display_name": "Python 3 (ipykernel)",
   "language": "python",
   "name": "python3"
  },
  "language_info": {
   "codemirror_mode": {
    "name": "ipython",
    "version": 3
   },
   "file_extension": ".py",
   "mimetype": "text/x-python",
   "name": "python",
   "nbconvert_exporter": "python",
   "pygments_lexer": "ipython3",
   "version": "3.12.5"
  }
 },
 "nbformat": 4,
 "nbformat_minor": 5
}
