{
  "nbformat": 4,
  "nbformat_minor": 0,
  "metadata": {
    "colab": {
      "provenance": [],
      "authorship_tag": "ABX9TyOWLChfKL0xDItZt3XMexIV",
      "include_colab_link": true
    },
    "kernelspec": {
      "name": "python3",
      "display_name": "Python 3"
    },
    "language_info": {
      "name": "python"
    }
  },
  "cells": [
    {
      "cell_type": "markdown",
      "metadata": {
        "id": "view-in-github",
        "colab_type": "text"
      },
      "source": [
        "<a href=\"https://colab.research.google.com/github/ov-nastia/Machine_learning_Ovchinnik/blob/main/lab_7_2_Ovchinnik.ipynb\" target=\"_parent\"><img src=\"https://colab.research.google.com/assets/colab-badge.svg\" alt=\"Open In Colab\"/></a>"
      ]
    },
    {
      "cell_type": "code",
      "execution_count": 1,
      "metadata": {
        "colab": {
          "base_uri": "https://localhost:8080/"
        },
        "id": "DJVh9f0UteJQ",
        "outputId": "deffcca5-ed54-47e5-dd8e-9723e3728d6a"
      },
      "outputs": [
        {
          "output_type": "stream",
          "name": "stdout",
          "text": [
            "Collecting scikit-Surprise\n",
            "  Downloading scikit_surprise-1.1.4.tar.gz (154 kB)\n",
            "\u001b[?25l     \u001b[90m━━━━━━━━━━━━━━━━━━━━━━━━━━━━━━━━━━━━━━━━\u001b[0m \u001b[32m0.0/154.4 kB\u001b[0m \u001b[31m?\u001b[0m eta \u001b[36m-:--:--\u001b[0m\r\u001b[2K     \u001b[90m━━━━━━━━━━━━━━━━━━━━━━━━━━━━━━━━━━━━━━━━\u001b[0m \u001b[32m154.4/154.4 kB\u001b[0m \u001b[31m5.6 MB/s\u001b[0m eta \u001b[36m0:00:00\u001b[0m\n",
            "\u001b[?25h  Installing build dependencies ... \u001b[?25l\u001b[?25hdone\n",
            "  Getting requirements to build wheel ... \u001b[?25l\u001b[?25hdone\n",
            "  Preparing metadata (pyproject.toml) ... \u001b[?25l\u001b[?25hdone\n",
            "Requirement already satisfied: joblib>=1.2.0 in /usr/local/lib/python3.10/dist-packages (from scikit-Surprise) (1.4.2)\n",
            "Requirement already satisfied: numpy>=1.19.5 in /usr/local/lib/python3.10/dist-packages (from scikit-Surprise) (1.26.4)\n",
            "Requirement already satisfied: scipy>=1.6.0 in /usr/local/lib/python3.10/dist-packages (from scikit-Surprise) (1.13.1)\n",
            "Building wheels for collected packages: scikit-Surprise\n",
            "  Building wheel for scikit-Surprise (pyproject.toml) ... \u001b[?25l\u001b[?25hdone\n",
            "  Created wheel for scikit-Surprise: filename=scikit_surprise-1.1.4-cp310-cp310-linux_x86_64.whl size=2357264 sha256=c0ce6210bba569de620d1d44ca0088de1e63e319fc702bcc7f73ca85b8b63acf\n",
            "  Stored in directory: /root/.cache/pip/wheels/4b/3f/df/6acbf0a40397d9bf3ff97f582cc22fb9ce66adde75bc71fd54\n",
            "Successfully built scikit-Surprise\n",
            "Installing collected packages: scikit-Surprise\n",
            "Successfully installed scikit-Surprise-1.1.4\n"
          ]
        }
      ],
      "source": [
        "#Побудуйте власну рекомендаційну систему (приклад є в документації). Оцініть її. Отримайте рекомендацію для певного користувача.\n",
        "!pip install scikit-Surprise\n",
        "from surprise import AlgoBase\n",
        "from surprise import Dataset\n",
        "from surprise.model_selection import train_test_split\n",
        "import numpy as np"
      ]
    },
    {
      "cell_type": "code",
      "source": [
        "class MyOwnAlgorithm(AlgoBase):\n",
        "    def __init__(self):\n",
        "        AlgoBase.__init__(self)\n",
        "\n",
        "    def fit(self, trainset):\n",
        "        AlgoBase.fit(self, trainset)\n",
        "        self.user_means = {}\n",
        "        for uid, ratings in trainset.ur.items():\n",
        "            self.user_means[uid] = np.mean([rating for (_, rating) in ratings])\n",
        "        return self\n",
        "\n",
        "    def estimate(self, uid, iid):\n",
        "        if uid in self.user_means:\n",
        "            return self.user_means[uid]\n",
        "        else:\n",
        "            return self.trainset.global_mean"
      ],
      "metadata": {
        "id": "RD6Cpc5stibP"
      },
      "execution_count": 5,
      "outputs": []
    },
    {
      "cell_type": "code",
      "source": [
        "data = Dataset.load_builtin('ml-100k')\n",
        "trainset, testset = train_test_split(data, test_size=0.2)\n",
        "\n",
        "model = MyOwnAlgorithm()\n",
        "model.fit(trainset)"
      ],
      "metadata": {
        "colab": {
          "base_uri": "https://localhost:8080/"
        },
        "id": "E3VtgNjfuAJN",
        "outputId": "51b80df6-9363-45fc-a175-3f7ad04d8ab0"
      },
      "execution_count": 6,
      "outputs": [
        {
          "output_type": "execute_result",
          "data": {
            "text/plain": [
              "<__main__.MyOwnAlgorithm at 0x7e5a57a9ab60>"
            ]
          },
          "metadata": {},
          "execution_count": 6
        }
      ]
    },
    {
      "cell_type": "code",
      "source": [
        "from surprise import accuracy\n",
        "predictions = model.test(testset)\n",
        "rmse = accuracy.rmse(predictions)\n",
        "mae = accuracy.mae(predictions)"
      ],
      "metadata": {
        "colab": {
          "base_uri": "https://localhost:8080/"
        },
        "id": "NTP3AFfCuFVh",
        "outputId": "e78d7851-9471-43b2-b2e0-699da819367f"
      },
      "execution_count": 7,
      "outputs": [
        {
          "output_type": "stream",
          "name": "stdout",
          "text": [
            "RMSE: 1.0531\n",
            "MAE:  0.8441\n"
          ]
        }
      ]
    },
    {
      "cell_type": "code",
      "source": [
        "user_id = str(244)\n",
        "\n",
        "all_items = set(trainset.all_items())\n",
        "user_ratings = trainset.ur[trainset.to_inner_uid(user_id)]\n",
        "rated_items = set([item for (item, _) in user_ratings])\n",
        "unrated_items = all_items - rated_items\n",
        "\n",
        "predictions = [(item, model.predict(user_id, trainset.to_raw_iid(item)).est) for item in unrated_items]\n",
        "predictions.sort(key=lambda x: x[1], reverse=True)\n",
        "\n",
        "print(\"Топ-10 фільмів, рекомендованих для користувача:\")\n",
        "for item_id, rating in predictions[:10]:\n",
        "    print(f\"Фільм {trainset.to_raw_iid(item_id)} з прогнозованим рейтингом {rating:.2f}\")"
      ],
      "metadata": {
        "colab": {
          "base_uri": "https://localhost:8080/"
        },
        "id": "0To_yzONuLAo",
        "outputId": "22e9c0ab-a48b-4dbe-a78d-ef7515b7e164"
      },
      "execution_count": 8,
      "outputs": [
        {
          "output_type": "stream",
          "name": "stdout",
          "text": [
            "Топ-10 фільмів, рекомендованих для користувача:\n",
            "Фільм 880 з прогнозованим рейтингом 3.70\n",
            "Фільм 474 з прогнозованим рейтингом 3.70\n",
            "Фільм 331 з прогнозованим рейтингом 3.70\n",
            "Фільм 405 з прогнозованим рейтингом 3.70\n",
            "Фільм 610 з прогнозованим рейтингом 3.70\n",
            "Фільм 73 з прогнозованим рейтингом 3.70\n",
            "Фільм 50 з прогнозованим рейтингом 3.70\n",
            "Фільм 202 з прогнозованим рейтингом 3.70\n",
            "Фільм 928 з прогнозованим рейтингом 3.70\n",
            "Фільм 687 з прогнозованим рейтингом 3.70\n"
          ]
        }
      ]
    },
    {
      "cell_type": "code",
      "source": [],
      "metadata": {
        "id": "Rke6UzbJuMlI"
      },
      "execution_count": null,
      "outputs": []
    }
  ]
}