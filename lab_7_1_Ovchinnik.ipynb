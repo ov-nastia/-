{
  "nbformat": 4,
  "nbformat_minor": 0,
  "metadata": {
    "colab": {
      "provenance": [],
      "authorship_tag": "ABX9TyNtiIYaM6DWAiJeE4ya7xKG",
      "include_colab_link": true
    },
    "kernelspec": {
      "name": "python3",
      "display_name": "Python 3"
    },
    "language_info": {
      "name": "python"
    }
  },
  "cells": [
    {
      "cell_type": "markdown",
      "metadata": {
        "id": "view-in-github",
        "colab_type": "text"
      },
      "source": [
        "<a href=\"https://colab.research.google.com/github/ov-nastia/Machine_learning_Ovchinnik/blob/main/lab_7_1_Ovchinnik.ipynb\" target=\"_parent\"><img src=\"https://colab.research.google.com/assets/colab-badge.svg\" alt=\"Open In Colab\"/></a>"
      ]
    },
    {
      "cell_type": "code",
      "execution_count": 1,
      "metadata": {
        "colab": {
          "base_uri": "https://localhost:8080/"
        },
        "id": "vs0-N4yxrHqi",
        "outputId": "2a1dd961-6cfb-43d3-f693-cdd222e50bc8"
      },
      "outputs": [
        {
          "output_type": "stream",
          "name": "stdout",
          "text": [
            "Collecting scikit-Surprise\n",
            "  Downloading scikit_surprise-1.1.4.tar.gz (154 kB)\n",
            "\u001b[?25l     \u001b[90m━━━━━━━━━━━━━━━━━━━━━━━━━━━━━━━━━━━━━━━━\u001b[0m \u001b[32m0.0/154.4 kB\u001b[0m \u001b[31m?\u001b[0m eta \u001b[36m-:--:--\u001b[0m\r\u001b[2K     \u001b[91m━━━━━━━━━━━━━━━━━━━━━━━━━━━━━━━━━━━━━━━\u001b[0m\u001b[91m╸\u001b[0m \u001b[32m153.6/154.4 kB\u001b[0m \u001b[31m7.9 MB/s\u001b[0m eta \u001b[36m0:00:01\u001b[0m\r\u001b[2K     \u001b[90m━━━━━━━━━━━━━━━━━━━━━━━━━━━━━━━━━━━━━━━━\u001b[0m \u001b[32m154.4/154.4 kB\u001b[0m \u001b[31m2.7 MB/s\u001b[0m eta \u001b[36m0:00:00\u001b[0m\n",
            "\u001b[?25h  Installing build dependencies ... \u001b[?25l\u001b[?25hdone\n",
            "  Getting requirements to build wheel ... \u001b[?25l\u001b[?25hdone\n",
            "  Preparing metadata (pyproject.toml) ... \u001b[?25l\u001b[?25hdone\n",
            "Requirement already satisfied: joblib>=1.2.0 in /usr/local/lib/python3.10/dist-packages (from scikit-Surprise) (1.4.2)\n",
            "Requirement already satisfied: numpy>=1.19.5 in /usr/local/lib/python3.10/dist-packages (from scikit-Surprise) (1.26.4)\n",
            "Requirement already satisfied: scipy>=1.6.0 in /usr/local/lib/python3.10/dist-packages (from scikit-Surprise) (1.13.1)\n",
            "Building wheels for collected packages: scikit-Surprise\n",
            "  Building wheel for scikit-Surprise (pyproject.toml) ... \u001b[?25l\u001b[?25hdone\n",
            "  Created wheel for scikit-Surprise: filename=scikit_surprise-1.1.4-cp310-cp310-linux_x86_64.whl size=2357272 sha256=117aee72af502c62c66141827894727ca9397f1d86ed0678ea1624fc5186fc80\n",
            "  Stored in directory: /root/.cache/pip/wheels/4b/3f/df/6acbf0a40397d9bf3ff97f582cc22fb9ce66adde75bc71fd54\n",
            "Successfully built scikit-Surprise\n",
            "Installing collected packages: scikit-Surprise\n",
            "Successfully installed scikit-Surprise-1.1.4\n"
          ]
        }
      ],
      "source": [
        "#Завантажте датасет для рецензій (ml-100k) за допомогою бібліотеки Surprise.\n",
        "!pip install scikit-Surprise"
      ]
    },
    {
      "cell_type": "code",
      "source": [
        "#Виведіть перші 5 рядків завантаженого датасету.\n",
        "from surprise import Dataset, Reader\n",
        "from surprise import SVD, KNNBasic\n",
        "from surprise.model_selection import cross_validate, GridSearchCV\n",
        "from surprise import accuracy\n",
        "from surprise.model_selection import train_test_split\n",
        "\n",
        "data = Dataset.load_builtin('ml-100k')\n",
        "\n",
        "print(\"Перші 5 рядків датасету з поясненням: \")\n",
        "for row in data.raw_ratings[:5]:\n",
        "  user_id, movie_id, rating, timestamp = row\n",
        "  print(f\"Користувач {user_id} оцінив фільм {movie_id} на {rating} балів (часова позначка: {timestamp})\")"
      ],
      "metadata": {
        "colab": {
          "base_uri": "https://localhost:8080/"
        },
        "id": "_l--omZEr0Bg",
        "outputId": "514335bb-70c8-4502-d8fd-a1588b06276d"
      },
      "execution_count": 3,
      "outputs": [
        {
          "output_type": "stream",
          "name": "stdout",
          "text": [
            "Перші 5 рядків датасету з поясненням: \n",
            "Користувач 196 оцінив фільм 242 на 3.0 балів (часова позначка: 881250949)\n",
            "Користувач 186 оцінив фільм 302 на 3.0 балів (часова позначка: 891717742)\n",
            "Користувач 22 оцінив фільм 377 на 1.0 балів (часова позначка: 878887116)\n",
            "Користувач 244 оцінив фільм 51 на 2.0 балів (часова позначка: 880606923)\n",
            "Користувач 166 оцінив фільм 346 на 1.0 балів (часова позначка: 886397596)\n"
          ]
        }
      ]
    },
    {
      "cell_type": "code",
      "source": [
        "#Реалізуйте два алгоритми для рекомендаційної системи на основі цього датасету. Можна вибрати будь-які алгоритми з бібліотеки Surprise.\n",
        "#Використайте крос-валідацію для підбору оптимальних параметрів для обох алгоритмів.\n",
        "trainset, testset = train_test_split(data, test_size=0.2)\n",
        "\n",
        "param_grid_svd = {\n",
        "    'n_factors': [50, 100],\n",
        "    'lr_all': [0.005, 0.010],\n",
        "    'reg_all': [0.02, 0.05]\n",
        "}\n",
        "\n",
        "param_grid_knn = {\n",
        "    'k': [20, 40],\n",
        "    'min_k': [1, 5],\n",
        "    'sim_options': {\n",
        "        'name': ['cosine', 'pearson'],\n",
        "        'user_based': [False, True]\n",
        "    }\n",
        "}\n",
        "\n",
        "grid_search_svd = GridSearchCV (SVD, param_grid_svd, measures=['rmse', 'mae'], cv=5)\n",
        "grid_search_svd.fit(data)\n",
        "\n",
        "grid_search_knn = GridSearchCV (KNNBasic, param_grid_knn, measures=['rmse', 'mae'], cv=5)\n",
        "grid_search_knn.fit(data)"
      ],
      "metadata": {
        "colab": {
          "base_uri": "https://localhost:8080/"
        },
        "id": "hSibVl76r1nF",
        "outputId": "5f1dba8f-7b38-4cf2-f516-e8a66d0471ef"
      },
      "execution_count": 4,
      "outputs": [
        {
          "output_type": "stream",
          "name": "stdout",
          "text": [
            "Computing the cosine similarity matrix...\n",
            "Done computing similarity matrix.\n",
            "Computing the cosine similarity matrix...\n",
            "Done computing similarity matrix.\n",
            "Computing the cosine similarity matrix...\n",
            "Done computing similarity matrix.\n",
            "Computing the cosine similarity matrix...\n",
            "Done computing similarity matrix.\n",
            "Computing the cosine similarity matrix...\n",
            "Done computing similarity matrix.\n",
            "Computing the cosine similarity matrix...\n",
            "Done computing similarity matrix.\n",
            "Computing the cosine similarity matrix...\n",
            "Done computing similarity matrix.\n",
            "Computing the cosine similarity matrix...\n",
            "Done computing similarity matrix.\n",
            "Computing the cosine similarity matrix...\n",
            "Done computing similarity matrix.\n",
            "Computing the cosine similarity matrix...\n",
            "Done computing similarity matrix.\n",
            "Computing the pearson similarity matrix...\n",
            "Done computing similarity matrix.\n",
            "Computing the pearson similarity matrix...\n",
            "Done computing similarity matrix.\n",
            "Computing the pearson similarity matrix...\n",
            "Done computing similarity matrix.\n",
            "Computing the pearson similarity matrix...\n",
            "Done computing similarity matrix.\n",
            "Computing the pearson similarity matrix...\n",
            "Done computing similarity matrix.\n",
            "Computing the pearson similarity matrix...\n",
            "Done computing similarity matrix.\n",
            "Computing the pearson similarity matrix...\n",
            "Done computing similarity matrix.\n",
            "Computing the pearson similarity matrix...\n",
            "Done computing similarity matrix.\n",
            "Computing the pearson similarity matrix...\n",
            "Done computing similarity matrix.\n",
            "Computing the pearson similarity matrix...\n",
            "Done computing similarity matrix.\n",
            "Computing the cosine similarity matrix...\n",
            "Done computing similarity matrix.\n",
            "Computing the cosine similarity matrix...\n",
            "Done computing similarity matrix.\n",
            "Computing the cosine similarity matrix...\n",
            "Done computing similarity matrix.\n",
            "Computing the cosine similarity matrix...\n",
            "Done computing similarity matrix.\n",
            "Computing the cosine similarity matrix...\n",
            "Done computing similarity matrix.\n",
            "Computing the cosine similarity matrix...\n",
            "Done computing similarity matrix.\n",
            "Computing the cosine similarity matrix...\n",
            "Done computing similarity matrix.\n",
            "Computing the cosine similarity matrix...\n",
            "Done computing similarity matrix.\n",
            "Computing the cosine similarity matrix...\n",
            "Done computing similarity matrix.\n",
            "Computing the cosine similarity matrix...\n",
            "Done computing similarity matrix.\n",
            "Computing the pearson similarity matrix...\n",
            "Done computing similarity matrix.\n",
            "Computing the pearson similarity matrix...\n",
            "Done computing similarity matrix.\n",
            "Computing the pearson similarity matrix...\n",
            "Done computing similarity matrix.\n",
            "Computing the pearson similarity matrix...\n",
            "Done computing similarity matrix.\n",
            "Computing the pearson similarity matrix...\n",
            "Done computing similarity matrix.\n",
            "Computing the pearson similarity matrix...\n",
            "Done computing similarity matrix.\n",
            "Computing the pearson similarity matrix...\n",
            "Done computing similarity matrix.\n",
            "Computing the pearson similarity matrix...\n",
            "Done computing similarity matrix.\n",
            "Computing the pearson similarity matrix...\n",
            "Done computing similarity matrix.\n",
            "Computing the pearson similarity matrix...\n",
            "Done computing similarity matrix.\n",
            "Computing the cosine similarity matrix...\n",
            "Done computing similarity matrix.\n",
            "Computing the cosine similarity matrix...\n",
            "Done computing similarity matrix.\n",
            "Computing the cosine similarity matrix...\n",
            "Done computing similarity matrix.\n",
            "Computing the cosine similarity matrix...\n",
            "Done computing similarity matrix.\n",
            "Computing the cosine similarity matrix...\n",
            "Done computing similarity matrix.\n",
            "Computing the cosine similarity matrix...\n",
            "Done computing similarity matrix.\n",
            "Computing the cosine similarity matrix...\n",
            "Done computing similarity matrix.\n",
            "Computing the cosine similarity matrix...\n",
            "Done computing similarity matrix.\n",
            "Computing the cosine similarity matrix...\n",
            "Done computing similarity matrix.\n",
            "Computing the cosine similarity matrix...\n",
            "Done computing similarity matrix.\n",
            "Computing the pearson similarity matrix...\n",
            "Done computing similarity matrix.\n",
            "Computing the pearson similarity matrix...\n",
            "Done computing similarity matrix.\n",
            "Computing the pearson similarity matrix...\n",
            "Done computing similarity matrix.\n",
            "Computing the pearson similarity matrix...\n",
            "Done computing similarity matrix.\n",
            "Computing the pearson similarity matrix...\n",
            "Done computing similarity matrix.\n",
            "Computing the pearson similarity matrix...\n",
            "Done computing similarity matrix.\n",
            "Computing the pearson similarity matrix...\n",
            "Done computing similarity matrix.\n",
            "Computing the pearson similarity matrix...\n",
            "Done computing similarity matrix.\n",
            "Computing the pearson similarity matrix...\n",
            "Done computing similarity matrix.\n",
            "Computing the pearson similarity matrix...\n",
            "Done computing similarity matrix.\n",
            "Computing the cosine similarity matrix...\n",
            "Done computing similarity matrix.\n",
            "Computing the cosine similarity matrix...\n",
            "Done computing similarity matrix.\n",
            "Computing the cosine similarity matrix...\n",
            "Done computing similarity matrix.\n",
            "Computing the cosine similarity matrix...\n",
            "Done computing similarity matrix.\n",
            "Computing the cosine similarity matrix...\n",
            "Done computing similarity matrix.\n",
            "Computing the cosine similarity matrix...\n",
            "Done computing similarity matrix.\n",
            "Computing the cosine similarity matrix...\n",
            "Done computing similarity matrix.\n",
            "Computing the cosine similarity matrix...\n",
            "Done computing similarity matrix.\n",
            "Computing the cosine similarity matrix...\n",
            "Done computing similarity matrix.\n",
            "Computing the cosine similarity matrix...\n",
            "Done computing similarity matrix.\n",
            "Computing the pearson similarity matrix...\n",
            "Done computing similarity matrix.\n",
            "Computing the pearson similarity matrix...\n",
            "Done computing similarity matrix.\n",
            "Computing the pearson similarity matrix...\n",
            "Done computing similarity matrix.\n",
            "Computing the pearson similarity matrix...\n",
            "Done computing similarity matrix.\n",
            "Computing the pearson similarity matrix...\n",
            "Done computing similarity matrix.\n",
            "Computing the pearson similarity matrix...\n",
            "Done computing similarity matrix.\n",
            "Computing the pearson similarity matrix...\n",
            "Done computing similarity matrix.\n",
            "Computing the pearson similarity matrix...\n",
            "Done computing similarity matrix.\n",
            "Computing the pearson similarity matrix...\n",
            "Done computing similarity matrix.\n",
            "Computing the pearson similarity matrix...\n",
            "Done computing similarity matrix.\n"
          ]
        }
      ]
    },
    {
      "cell_type": "code",
      "source": [
        "#Оберіть найкращий алгоритм на основі середньої абсолютної помилки (МАЕ).\n",
        "best_svd = grid_search_svd.best_estimator['mae']\n",
        "best_knn = grid_search_knn.best_estimator['mae']\n",
        "\n",
        "print (f\"Найкращий MAE для SVD: {grid_search_svd.best_score['mae']}\")\n",
        "print (f\"Найкращий MAE для KNNBasic: {grid_search_knn.best_score['mae']}\")\n",
        "\n",
        "if grid_search_svd.best_score['mae'] <grid_search_knn.best_score['mae']:\n",
        "    best_model = best_svd\n",
        "    print(\"Вибраний алгоритм: SVD\")\n",
        "else:\n",
        "    best_model = best_knn\n",
        "    print(\"Вибраний алгоритм: KNNBasic\")"
      ],
      "metadata": {
        "colab": {
          "base_uri": "https://localhost:8080/"
        },
        "id": "rtxV54KisBpo",
        "outputId": "f88ae3c6-ac02-472e-fe51-1693e6a3eb4d"
      },
      "execution_count": 5,
      "outputs": [
        {
          "output_type": "stream",
          "name": "stdout",
          "text": [
            "Найкращий MAE для SVD: 0.7242078293304866\n",
            "Найкращий MAE для KNNBasic: 0.8024080283304155\n",
            "Вибраний алгоритм: SVD\n"
          ]
        }
      ]
    },
    {
      "cell_type": "code",
      "source": [
        "#Виведи рекомендації (10 фільмів) для конкретного користувача.\n",
        "best_model.fit (trainset)\n",
        "\n",
        "user_id= str(244)\n",
        "user_ratings = trainset.ur[trainset.to_inner_uid(user_id)]\n",
        "print (f\"Кількість рецензій користувача {user_id}: {len(user_ratings)} \")\n",
        "\n",
        "all_items = set (trainset.all_items())\n",
        "rated_items = set([item for (item, _) in user_ratings])\n",
        "unrated_items = all_items - rated_items\n",
        "\n",
        "predictions = [(item, best_model.predict(user_id, trainset.to_raw_iid(item)).est) for item in unrated_items]\n",
        "predictions.sort(key=lambda x: x[1], reverse=True)\n",
        "\n",
        "print(\"Топ 10 фільмів, рекомендованих для користувача:\")\n",
        "for item_id, rating in predictions [:10]:\n",
        "    print (f\"Фільм {trainset.to_raw_iid(item_id)} з прогнозованим рейтингом {rating:.2f}\")"
      ],
      "metadata": {
        "colab": {
          "base_uri": "https://localhost:8080/"
        },
        "id": "gyE2S2sOsYeb",
        "outputId": "89467b7c-87c0-454d-a002-56074dd16aa1"
      },
      "execution_count": 6,
      "outputs": [
        {
          "output_type": "stream",
          "name": "stdout",
          "text": [
            "Кількість рецензій користувача 244: 201 \n",
            "Топ 10 фільмів, рекомендованих для користувача:\n",
            "Фільм 515 з прогнозованим рейтингом 4.94\n",
            "Фільм 56 з прогнозованим рейтингом 4.89\n",
            "Фільм 357 з прогнозованим рейтингом 4.84\n",
            "Фільм 269 з прогнозованим рейтингом 4.82\n",
            "Фільм 14 з прогнозованим рейтингом 4.81\n",
            "Фільм 1142 з прогнозованим рейтингом 4.80\n",
            "Фільм 483 з прогнозованим рейтингом 4.79\n",
            "Фільм 81 з прогнозованим рейтингом 4.76\n",
            "Фільм 178 з прогнозованим рейтингом 4.72\n",
            "Фільм 12 з прогнозованим рейтингом 4.70\n"
          ]
        }
      ]
    }
  ]
}